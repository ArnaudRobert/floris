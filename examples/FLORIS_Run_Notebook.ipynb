{
 "cells": [
  {
   "cell_type": "markdown",
   "metadata": {},
   "source": [
    "# Examples for running FLORIS"
   ]
  },
  {
   "cell_type": "code",
   "execution_count": 1,
   "metadata": {},
   "outputs": [],
   "source": [
    "# load modules\n",
    "from floris.floris import Floris\n",
    "import numpy as np\n",
    "import matplotlib.pyplot as plt\n",
    "%matplotlib inline"
   ]
  },
  {
   "cell_type": "markdown",
   "metadata": {},
   "source": [
    "## Setup floris and process input file"
   ]
  },
  {
   "cell_type": "code",
   "execution_count": 2,
   "metadata": {
    "scrolled": false
   },
   "outputs": [],
   "source": [
    "floris = Floris(\"example_input.json\")"
   ]
  },
  {
   "cell_type": "markdown",
   "metadata": {},
   "source": [
    "## Calculate Wake"
   ]
  },
  {
   "cell_type": "code",
   "execution_count": 3,
   "metadata": {},
   "outputs": [
    {
     "name": "stdout",
     "output_type": "stream",
     "text": [
      "Time to compute wake =  0.012473821640014648 s\n"
     ]
    }
   ],
   "source": [
    "import time\n",
    "\n",
    "t1 = time.time()\n",
    "\n",
    "floris.farm.flow_field.calculate_wake()\n",
    "\n",
    "t2 = time.time()\n",
    "\n",
    "print('Time to compute wake = ', t2-t1, 's')"
   ]
  },
  {
   "cell_type": "markdown",
   "metadata": {},
   "source": [
    "## Compute Velocities at each Turbine"
   ]
  },
  {
   "cell_type": "code",
   "execution_count": 28,
   "metadata": {},
   "outputs": [
    {
     "name": "stdout",
     "output_type": "stream",
     "text": [
      "\tx\ty\tz\t  Cp\t Ct\t power\t\t a\t\t wind speed\t TI\n",
      "<   0.000,    0.000,   90.000> | 0.463   0.766   1712005.168     0.258           7.851           0.060          \n",
      "< 800.000,    0.000,   90.000> | 0.459   0.813   946340.408      0.284           6.462           0.127          \n",
      "<   0.000,  630.000,   90.000> | 0.463   0.766   1712005.168     0.258           7.851           0.060          \n",
      "< 800.000,  630.000,   90.000> | 0.459   0.813   946340.408      0.284           6.462           0.127          \n"
     ]
    }
   ],
   "source": [
    "# gather farm items from FLORIS including turbines\n",
    "farm_items = floris.farm.turbine_map.items\n",
    "\n",
    "print(\"\\tx\\ty\\tz\\t  Cp\\t Ct\\t power\\t\\t a\\t\\t wind speed\\t TI\")\n",
    "for coord, turbine in farm_items:\n",
    "    print(\"{} | {:<7.3f} {:<7.3f} {:<15.3f} {:<15.3f} {:<15.3f} {:<15.3f}\".format(coord, turbine.Cp, turbine.Ct, turbine.power, turbine.aI, turbine.average_velocity, turbine.turbulence_intensity))"
   ]
  },
  {
   "cell_type": "markdown",
   "metadata": {},
   "source": [
    "## Optimize with wake steering"
   ]
  },
  {
   "cell_type": "code",
   "execution_count": 30,
   "metadata": {},
   "outputs": [
    {
     "name": "stdout",
     "output_type": "stream",
     "text": [
      "Optimal yaw angles for:\n",
      "Turbine  0  yaw angle =  24.999999987589906\n",
      "Turbine  1  yaw angle =  8.152804870526513e-09\n",
      "Turbine  2  yaw angle =  24.999999987553267\n",
      "Turbine  3  yaw angle =  8.133263542563601e-09\n",
      "Power increased by 6.222567052402905%\n"
     ]
    }
   ],
   "source": [
    "import floris.optimization as flopt\n",
    "\n",
    "# Run floris with no yaw\n",
    "floris.farm.set_yaw_angles(0.0, calculate_wake=True)\n",
    "\n",
    "# Determine initial power production\n",
    "power_initial = np.sum([turbine.power for turbine in floris.farm.turbines])\n",
    "\n",
    "# Set bounds for the optimization on the yaw angles (deg)\n",
    "minimum_yaw, maximum_yaw = 0.0, 25.0\n",
    "\n",
    "# Compute the optimal yaw angles\n",
    "opt_yaw_angles = flopt.wake_steering(floris, minimum_yaw, maximum_yaw)\n",
    "print('Optimal yaw angles for:')\n",
    "for i, yaw in enumerate(opt_yaw_angles):\n",
    "    print('Turbine ', i, ' yaw angle = ', np.degrees(yaw))\n",
    "\n",
    "# Calculate power gain with new yaw angles\n",
    "floris.farm.set_yaw_angles(opt_yaw_angles, calculate_wake=True)\n",
    "\n",
    "# Optimal power\n",
    "power_optimal = np.sum([turbine.power for turbine in floris.farm.turbines])\n",
    "print('Power increased by {}%'.format(100 * (power_optimal - power_initial) / power_initial))"
   ]
  },
  {
   "cell_type": "code",
   "execution_count": null,
   "metadata": {},
   "outputs": [],
   "source": []
  },
  {
   "cell_type": "code",
   "execution_count": null,
   "metadata": {},
   "outputs": [],
   "source": []
  }
 ],
 "metadata": {
  "hide_input": false,
  "kernelspec": {
   "display_name": "Python 3",
   "language": "python",
   "name": "python3"
  },
  "language_info": {
   "codemirror_mode": {
    "name": "ipython",
    "version": 3
   },
   "file_extension": ".py",
   "mimetype": "text/x-python",
   "name": "python",
   "nbconvert_exporter": "python",
   "pygments_lexer": "ipython3",
   "version": "3.6.4"
  },
  "toc": {
   "nav_menu": {},
   "number_sections": false,
   "sideBar": true,
   "skip_h1_title": false,
   "toc_cell": false,
   "toc_position": {},
   "toc_section_display": "block",
   "toc_window_display": false
  },
  "varInspector": {
   "cols": {
    "lenName": 16,
    "lenType": 16,
    "lenVar": 40
   },
   "kernels_config": {
    "python": {
     "delete_cmd_postfix": "",
     "delete_cmd_prefix": "del ",
     "library": "var_list.py",
     "varRefreshCmd": "print(var_dic_list())"
    },
    "r": {
     "delete_cmd_postfix": ") ",
     "delete_cmd_prefix": "rm(",
     "library": "var_list.r",
     "varRefreshCmd": "cat(var_dic_list()) "
    }
   },
   "types_to_exclude": [
    "module",
    "function",
    "builtin_function_or_method",
    "instance",
    "_Feature"
   ],
   "window_display": false
  }
 },
 "nbformat": 4,
 "nbformat_minor": 2
}
